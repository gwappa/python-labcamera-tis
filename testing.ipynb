{
 "cells": [
  {
   "cell_type": "code",
   "execution_count": 1,
   "id": "38d0f61a",
   "metadata": {},
   "outputs": [
    {
     "name": "stderr",
     "output_type": "stream",
     "text": [
      "[2021-11-10 11:51:27,699 ks-labcamera-tis] INFO: loaded TIS_UDSHL\n"
     ]
    }
   ],
   "source": [
    "import labcamera_tis\n",
    "Device = labcamera_tis.Device"
   ]
  },
  {
   "cell_type": "code",
   "execution_count": 2,
   "id": "2d9a6db7",
   "metadata": {},
   "outputs": [
    {
     "data": {
      "text/plain": [
       "('DMK 33UP1300 2121006',)"
      ]
     },
     "execution_count": 2,
     "metadata": {},
     "output_type": "execute_result"
    }
   ],
   "source": [
    "Device.list_names()"
   ]
  },
  {
   "cell_type": "code",
   "execution_count": 3,
   "id": "8a2cba12",
   "metadata": {
    "scrolled": true
   },
   "outputs": [
    {
     "name": "stderr",
     "output_type": "stream",
     "text": [
      "[2021-11-10 11:51:33,352 ks-labcamera-tis] INFO: video format--> Y16 (640x480) (color: Y16, buffersize=614400)\n",
      "[2021-11-10 11:51:33,682 ks-labcamera-tis] INFO: Startup Behavior/Save Current State: Button\n",
      "[2021-11-10 11:51:33,683 ks-labcamera-tis] INFO: Startup Behavior/Restore Factory Default: Button\n",
      "[2021-11-10 11:51:33,683 ks-labcamera-tis] INFO: Startup Behavior/Status: MapStrings\n",
      "[2021-11-10 11:51:33,683 ks-labcamera-tis] INFO: Brightness/Value: Range\n",
      "[2021-11-10 11:51:33,684 ks-labcamera-tis] INFO: Sharpness/Value: Range\n",
      "[2021-11-10 11:51:33,684 ks-labcamera-tis] INFO: Gamma/Value: AbsoluteValue\n",
      "[2021-11-10 11:51:33,685 ks-labcamera-tis] INFO: Gamma/Value: Range\n",
      "[2021-11-10 11:51:33,685 ks-labcamera-tis] INFO: Gain/Value: Range\n",
      "[2021-11-10 11:51:33,686 ks-labcamera-tis] INFO: Gain/Value: AbsoluteValue\n",
      "[2021-11-10 11:51:33,686 ks-labcamera-tis] INFO: Gain/Auto: Switch\n",
      "[2021-11-10 11:51:33,686 ks-labcamera-tis] INFO: Exposure/Value: Range\n",
      "[2021-11-10 11:51:33,687 ks-labcamera-tis] INFO: Exposure/Value: AbsoluteValue\n",
      "[2021-11-10 11:51:33,687 ks-labcamera-tis] INFO: Exposure/Auto: Switch\n",
      "[2021-11-10 11:51:33,687 ks-labcamera-tis] INFO: Exposure/Auto Reference: Range\n",
      "[2021-11-10 11:51:33,687 ks-labcamera-tis] INFO: Exposure/Auto Max Value: Range\n",
      "[2021-11-10 11:51:33,688 ks-labcamera-tis] INFO: Exposure/Auto Max Value: AbsoluteValue\n",
      "[2021-11-10 11:51:33,688 ks-labcamera-tis] INFO: Exposure/Auto: Switch\n",
      "[2021-11-10 11:51:33,689 ks-labcamera-tis] INFO: Trigger/Enable: Switch\n",
      "[2021-11-10 11:51:33,689 ks-labcamera-tis] INFO: Trigger/Software Trigger: Button\n",
      "[2021-11-10 11:51:33,689 ks-labcamera-tis] INFO: Trigger/Polarity: Switch\n",
      "[2021-11-10 11:51:33,689 ks-labcamera-tis] INFO: Trigger/Delay: AbsoluteValue\n",
      "[2021-11-10 11:51:33,690 ks-labcamera-tis] INFO: Trigger/Debounce Time: AbsoluteValue\n",
      "[2021-11-10 11:51:33,690 ks-labcamera-tis] INFO: Trigger/Mask Time: AbsoluteValue\n",
      "[2021-11-10 11:51:33,690 ks-labcamera-tis] INFO: Trigger/Noise Suppression Time: AbsoluteValue\n",
      "[2021-11-10 11:51:33,690 ks-labcamera-tis] INFO: Trigger/Burst Count: Range\n",
      "[2021-11-10 11:51:33,690 ks-labcamera-tis] INFO: Trigger/Overlap: MapStrings\n",
      "[2021-11-10 11:51:33,691 ks-labcamera-tis] INFO: Denoise/Value: Range\n",
      "[2021-11-10 11:51:33,691 ks-labcamera-tis] INFO: GPIO/GP IN: Range\n",
      "[2021-11-10 11:51:33,691 ks-labcamera-tis] INFO: GPIO/Read: Button\n",
      "[2021-11-10 11:51:33,692 ks-labcamera-tis] INFO: GPIO/GP Out: Range\n",
      "[2021-11-10 11:51:33,692 ks-labcamera-tis] INFO: GPIO/Write: Button\n",
      "[2021-11-10 11:51:33,692 ks-labcamera-tis] INFO: Binning factor/Value: MapStrings\n",
      "[2021-11-10 11:51:33,692 ks-labcamera-tis] INFO: Highlight Reduction/Enable: Switch\n",
      "[2021-11-10 11:51:33,693 ks-labcamera-tis] INFO: Tone Mapping/Enable: Switch\n",
      "[2021-11-10 11:51:33,693 ks-labcamera-tis] INFO: Tone Mapping/Intensity: AbsoluteValue\n",
      "[2021-11-10 11:51:33,693 ks-labcamera-tis] INFO: Tone Mapping/Global Brightness Factor: AbsoluteValue\n",
      "[2021-11-10 11:51:33,693 ks-labcamera-tis] INFO: Tone Mapping/Auto: Switch\n",
      "[2021-11-10 11:51:33,693 ks-labcamera-tis] INFO: Tone Mapping/a: AbsoluteValue\n",
      "[2021-11-10 11:51:33,693 ks-labcamera-tis] INFO: Tone Mapping/b: AbsoluteValue\n",
      "[2021-11-10 11:51:33,693 ks-labcamera-tis] INFO: Tone Mapping/c: AbsoluteValue\n",
      "[2021-11-10 11:51:33,693 ks-labcamera-tis] INFO: Tone Mapping/lum_avg: AbsoluteValue\n",
      "[2021-11-10 11:51:33,694 ks-labcamera-tis] INFO: Partial scan/Auto-center: Switch\n",
      "[2021-11-10 11:51:33,694 ks-labcamera-tis] INFO: Partial scan/X Offset: Range\n",
      "[2021-11-10 11:51:33,694 ks-labcamera-tis] INFO: Partial scan/Y Offset: Range\n",
      "[2021-11-10 11:51:33,694 ks-labcamera-tis] INFO: Strobe/Enable: Switch\n",
      "[2021-11-10 11:51:33,695 ks-labcamera-tis] INFO: Strobe/Mode: MapStrings\n",
      "[2021-11-10 11:51:33,695 ks-labcamera-tis] INFO: Strobe/Polarity: Switch\n",
      "[2021-11-10 11:51:33,695 ks-labcamera-tis] INFO: Auto Functions ROI/Enabled: Switch\n",
      "[2021-11-10 11:51:33,695 ks-labcamera-tis] INFO: Auto Functions ROI/Preset: MapStrings\n",
      "[2021-11-10 11:51:33,695 ks-labcamera-tis] INFO: Auto Functions ROI/Left: AbsoluteValue\n",
      "[2021-11-10 11:51:33,696 ks-labcamera-tis] INFO: Auto Functions ROI/Top: AbsoluteValue\n",
      "[2021-11-10 11:51:33,696 ks-labcamera-tis] INFO: Auto Functions ROI/Width: AbsoluteValue\n",
      "[2021-11-10 11:51:33,696 ks-labcamera-tis] INFO: Auto Functions ROI/Height: AbsoluteValue\n"
     ]
    }
   ],
   "source": [
    "dev = Device('DMK 33UP1300 2121006')"
   ]
  },
  {
   "cell_type": "code",
   "execution_count": 4,
   "id": "664c812e",
   "metadata": {},
   "outputs": [
    {
     "data": {
      "text/plain": [
       "True"
      ]
     },
     "execution_count": 4,
     "metadata": {},
     "output_type": "execute_result"
    }
   ],
   "source": [
    "dev._is_open()"
   ]
  },
  {
   "cell_type": "code",
   "execution_count": 5,
   "id": "f849fa29",
   "metadata": {},
   "outputs": [
    {
     "data": {
      "text/plain": [
       "True"
      ]
     },
     "execution_count": 5,
     "metadata": {},
     "output_type": "execute_result"
    }
   ],
   "source": [
    "dev.is_valid()"
   ]
  },
  {
   "cell_type": "code",
   "execution_count": 6,
   "id": "959d8f48",
   "metadata": {},
   "outputs": [
    {
     "data": {
      "text/plain": [
       "'Y16 (640x480)'"
      ]
     },
     "execution_count": 6,
     "metadata": {},
     "output_type": "execute_result"
    }
   ],
   "source": [
    "dev.video_format"
   ]
  },
  {
   "cell_type": "code",
   "execution_count": 7,
   "id": "247fa408",
   "metadata": {
    "scrolled": true
   },
   "outputs": [
    {
     "data": {
      "text/plain": [
       "('Y16 (256x16)',\n",
       " 'Y16 (320x240)',\n",
       " 'Y16 (320x256)',\n",
       " 'Y16 (320x480)',\n",
       " 'Y16 (352x240)',\n",
       " 'Y16 (352x288)',\n",
       " 'Y16 (384x288)',\n",
       " 'Y16 (640x240)',\n",
       " 'Y16 (640x288)',\n",
       " 'Y16 (640x480)',\n",
       " 'Y16 (640x512)',\n",
       " 'Y16 (704x576)',\n",
       " 'Y16 (720x240)',\n",
       " 'Y16 (720x288)',\n",
       " 'Y16 (720x480)',\n",
       " 'Y16 (720x576)',\n",
       " 'Y16 (768x576)',\n",
       " 'Y16 (1024x768)',\n",
       " 'Y16 (1280x960)',\n",
       " 'Y16 (1280x1024)',\n",
       " 'Y800 (256x16)',\n",
       " 'Y800 (320x240)',\n",
       " 'Y800 (320x256)',\n",
       " 'Y800 (320x480)',\n",
       " 'Y800 (352x240)',\n",
       " 'Y800 (352x288)',\n",
       " 'Y800 (384x288)',\n",
       " 'Y800 (640x240)',\n",
       " 'Y800 (640x288)',\n",
       " 'Y800 (640x480)',\n",
       " 'Y800 (640x512)',\n",
       " 'Y800 (704x576)',\n",
       " 'Y800 (720x240)',\n",
       " 'Y800 (720x288)',\n",
       " 'Y800 (720x480)',\n",
       " 'Y800 (720x576)',\n",
       " 'Y800 (768x576)',\n",
       " 'Y800 (1024x768)',\n",
       " 'Y800 (1280x960)',\n",
       " 'Y800 (1280x1024)',\n",
       " 'RGB24 (256x16)',\n",
       " 'RGB24 (320x240)',\n",
       " 'RGB24 (320x256)',\n",
       " 'RGB24 (320x480)',\n",
       " 'RGB24 (352x240)',\n",
       " 'RGB24 (352x288)',\n",
       " 'RGB24 (384x288)',\n",
       " 'RGB24 (640x240)',\n",
       " 'RGB24 (640x288)',\n",
       " 'RGB24 (640x480)',\n",
       " 'RGB24 (640x512)',\n",
       " 'RGB24 (704x576)',\n",
       " 'RGB24 (720x240)',\n",
       " 'RGB24 (720x288)',\n",
       " 'RGB24 (720x480)',\n",
       " 'RGB24 (720x576)',\n",
       " 'RGB24 (768x576)',\n",
       " 'RGB24 (1024x768)',\n",
       " 'RGB24 (1280x960)',\n",
       " 'RGB24 (1280x1024)')"
      ]
     },
     "execution_count": 7,
     "metadata": {},
     "output_type": "execute_result"
    }
   ],
   "source": [
    "dev.list_video_formats()"
   ]
  },
  {
   "cell_type": "code",
   "execution_count": 8,
   "id": "5077707e",
   "metadata": {},
   "outputs": [
    {
     "name": "stderr",
     "output_type": "stream",
     "text": [
      "[2021-11-10 11:51:33,719 ks-labcamera-tis] INFO: video format--> RGB24 (320x240) (color: RGB24, buffersize=230400)\n"
     ]
    }
   ],
   "source": [
    "dev.video_format = 'RGB24 (320x240)'"
   ]
  },
  {
   "cell_type": "code",
   "execution_count": 9,
   "id": "30101346",
   "metadata": {},
   "outputs": [
    {
     "data": {
      "text/plain": [
       "'RGB24 (320x240)'"
      ]
     },
     "execution_count": 9,
     "metadata": {},
     "output_type": "execute_result"
    }
   ],
   "source": [
    "dev.video_format"
   ]
  },
  {
   "cell_type": "code",
   "execution_count": 10,
   "id": "2f67354b",
   "metadata": {},
   "outputs": [
    {
     "data": {
      "text/plain": [
       "True"
      ]
     },
     "execution_count": 10,
     "metadata": {},
     "output_type": "execute_result"
    }
   ],
   "source": [
    "dev.triggered"
   ]
  },
  {
   "cell_type": "code",
   "execution_count": 11,
   "id": "d69af5d5",
   "metadata": {},
   "outputs": [
    {
     "data": {
      "text/plain": [
       "True"
      ]
     },
     "execution_count": 11,
     "metadata": {},
     "output_type": "execute_result"
    }
   ],
   "source": [
    "dev.triggered = True\n",
    "dev.triggered"
   ]
  },
  {
   "cell_type": "code",
   "execution_count": 12,
   "id": "80b42c77",
   "metadata": {},
   "outputs": [
    {
     "data": {
      "text/plain": [
       "1.0"
      ]
     },
     "execution_count": 12,
     "metadata": {},
     "output_type": "execute_result"
    }
   ],
   "source": [
    "dev.frame_rate"
   ]
  },
  {
   "cell_type": "code",
   "execution_count": 13,
   "id": "ef3540cf",
   "metadata": {},
   "outputs": [
    {
     "data": {
      "text/plain": [
       "30.00003000003"
      ]
     },
     "execution_count": 13,
     "metadata": {},
     "output_type": "execute_result"
    }
   ],
   "source": [
    "dev.frame_rate = 30\n",
    "\n",
    "dev.frame_rate"
   ]
  },
  {
   "cell_type": "code",
   "execution_count": 14,
   "id": "8b10d408",
   "metadata": {},
   "outputs": [
    {
     "data": {
      "text/plain": [
       "('Range', 'AbsoluteValue')"
      ]
     },
     "execution_count": 14,
     "metadata": {},
     "output_type": "execute_result"
    }
   ],
   "source": [
    "dev.props[\"Exposure\"][\"Value\"].interfaces"
   ]
  },
  {
   "cell_type": "code",
   "execution_count": 15,
   "id": "a9a1f541",
   "metadata": {},
   "outputs": [
    {
     "data": {
      "text/plain": [
       "'Switch'"
      ]
     },
     "execution_count": 15,
     "metadata": {},
     "output_type": "execute_result"
    }
   ],
   "source": [
    "dev.props[\"Exposure\"][\"Auto\"].type"
   ]
  },
  {
   "cell_type": "code",
   "execution_count": 16,
   "id": "f9719382",
   "metadata": {},
   "outputs": [
    {
     "data": {
      "text/plain": [
       "True"
      ]
     },
     "execution_count": 16,
     "metadata": {},
     "output_type": "execute_result"
    }
   ],
   "source": [
    "dev.props[\"Exposure\"][\"Auto\"].value"
   ]
  },
  {
   "cell_type": "code",
   "execution_count": 17,
   "id": "b8302bb6",
   "metadata": {},
   "outputs": [
    {
     "data": {
      "text/plain": [
       "0.009999999776482582"
      ]
     },
     "execution_count": 17,
     "metadata": {},
     "output_type": "execute_result"
    }
   ],
   "source": [
    "dev.props[\"Exposure\"][\"Value\"].value"
   ]
  },
  {
   "cell_type": "code",
   "execution_count": 18,
   "id": "a6ff650b",
   "metadata": {},
   "outputs": [
    {
     "data": {
      "text/plain": [
       "0.009999999776482582"
      ]
     },
     "execution_count": 18,
     "metadata": {},
     "output_type": "execute_result"
    }
   ],
   "source": [
    "dev.props[\"Exposure\"][\"Value\"].value = 0.010\n",
    "dev.props[\"Exposure\"][\"Value\"].value"
   ]
  },
  {
   "cell_type": "code",
   "execution_count": 19,
   "id": "e24436d8",
   "metadata": {},
   "outputs": [
    {
     "data": {
      "text/plain": [
       "'Factory Default'"
      ]
     },
     "execution_count": 19,
     "metadata": {},
     "output_type": "execute_result"
    }
   ],
   "source": [
    "dev.props[\"Startup Behavior\"][\"Status\"].value"
   ]
  },
  {
   "cell_type": "code",
   "execution_count": 20,
   "id": "a5a7325c",
   "metadata": {},
   "outputs": [],
   "source": [
    "dev.close()"
   ]
  },
  {
   "cell_type": "code",
   "execution_count": 21,
   "id": "c2807095",
   "metadata": {},
   "outputs": [
    {
     "data": {
      "text/plain": [
       "False"
      ]
     },
     "execution_count": 21,
     "metadata": {},
     "output_type": "execute_result"
    }
   ],
   "source": [
    "dev.is_valid()"
   ]
  },
  {
   "cell_type": "code",
   "execution_count": 22,
   "id": "7f944a99",
   "metadata": {},
   "outputs": [],
   "source": [
    "del dev"
   ]
  },
  {
   "cell_type": "code",
   "execution_count": 23,
   "id": "6dc149dc",
   "metadata": {},
   "outputs": [],
   "source": [
    "del Device\n",
    "del labcamera_tis"
   ]
  },
  {
   "cell_type": "code",
   "execution_count": null,
   "id": "7f092e31",
   "metadata": {},
   "outputs": [],
   "source": []
  }
 ],
 "metadata": {
  "kernelspec": {
   "display_name": "Python 3",
   "language": "python",
   "name": "python3"
  },
  "language_info": {
   "codemirror_mode": {
    "name": "ipython",
    "version": 3
   },
   "file_extension": ".py",
   "mimetype": "text/x-python",
   "name": "python",
   "nbconvert_exporter": "python",
   "pygments_lexer": "ipython3",
   "version": "3.8.10"
  }
 },
 "nbformat": 4,
 "nbformat_minor": 5
}

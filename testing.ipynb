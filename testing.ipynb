{
 "cells": [
  {
   "cell_type": "code",
   "execution_count": 1,
   "id": "38d0f61a",
   "metadata": {},
   "outputs": [
    {
     "name": "stderr",
     "output_type": "stream",
     "text": [
      "[2021-11-12 12:52:05,175 ks-labcamera-tis] INFO: loaded TIS_UDSHL\n"
     ]
    }
   ],
   "source": [
    "import labcamera_tis\n",
    "Device = labcamera_tis.Device"
   ]
  },
  {
   "cell_type": "code",
   "execution_count": 2,
   "id": "2d9a6db7",
   "metadata": {},
   "outputs": [
    {
     "data": {
      "text/plain": [
       "('DMK 33UP1300 2121006',)"
      ]
     },
     "execution_count": 2,
     "metadata": {},
     "output_type": "execute_result"
    }
   ],
   "source": [
    "Device.list_names()"
   ]
  },
  {
   "cell_type": "code",
   "execution_count": 3,
   "id": "8a2cba12",
   "metadata": {
    "scrolled": true
   },
   "outputs": [
    {
     "name": "stderr",
     "output_type": "stream",
     "text": [
      "[2021-11-12 12:52:10,832 ks-labcamera-tis] INFO: video format--> Y16 (640x480), color: Y16 (11), buffersize=614400\n",
      "[2021-11-12 12:52:11,163 ks-labcamera-tis] INFO: Startup Behavior/Save Current State: Button\n",
      "[2021-11-12 12:52:11,166 ks-labcamera-tis] INFO: Startup Behavior/Restore Factory Default: Button\n",
      "[2021-11-12 12:52:11,168 ks-labcamera-tis] INFO: Startup Behavior/Status: MapStrings\n",
      "[2021-11-12 12:52:11,170 ks-labcamera-tis] INFO: Brightness/Value: Range\n",
      "[2021-11-12 12:52:11,172 ks-labcamera-tis] INFO: Sharpness/Value: Range\n",
      "[2021-11-12 12:52:11,172 ks-labcamera-tis] INFO: Gamma/Value: AbsoluteValue\n",
      "[2021-11-12 12:52:11,173 ks-labcamera-tis] INFO: Gamma/Value: Range\n",
      "[2021-11-12 12:52:11,173 ks-labcamera-tis] INFO: Gain/Value: Range\n",
      "[2021-11-12 12:52:11,173 ks-labcamera-tis] INFO: Gain/Value: AbsoluteValue\n",
      "[2021-11-12 12:52:11,174 ks-labcamera-tis] INFO: Gain/Auto: Switch\n",
      "[2021-11-12 12:52:11,174 ks-labcamera-tis] INFO: Exposure/Value: Range\n",
      "[2021-11-12 12:52:11,174 ks-labcamera-tis] INFO: Exposure/Value: AbsoluteValue\n",
      "[2021-11-12 12:52:11,175 ks-labcamera-tis] INFO: Exposure/Auto: Switch\n",
      "[2021-11-12 12:52:11,175 ks-labcamera-tis] INFO: Exposure/Auto Reference: Range\n",
      "[2021-11-12 12:52:11,175 ks-labcamera-tis] INFO: Exposure/Auto Max Value: Range\n",
      "[2021-11-12 12:52:11,175 ks-labcamera-tis] INFO: Exposure/Auto Max Value: AbsoluteValue\n",
      "[2021-11-12 12:52:11,176 ks-labcamera-tis] INFO: Exposure/Auto: Switch\n",
      "[2021-11-12 12:52:11,176 ks-labcamera-tis] INFO: Trigger/Enable: Switch\n",
      "[2021-11-12 12:52:11,176 ks-labcamera-tis] INFO: Trigger/Software Trigger: Button\n",
      "[2021-11-12 12:52:11,177 ks-labcamera-tis] INFO: Trigger/Polarity: Switch\n",
      "[2021-11-12 12:52:11,177 ks-labcamera-tis] INFO: Trigger/Delay: AbsoluteValue\n",
      "[2021-11-12 12:52:11,177 ks-labcamera-tis] INFO: Trigger/Debounce Time: AbsoluteValue\n",
      "[2021-11-12 12:52:11,178 ks-labcamera-tis] INFO: Trigger/Mask Time: AbsoluteValue\n",
      "[2021-11-12 12:52:11,178 ks-labcamera-tis] INFO: Trigger/Noise Suppression Time: AbsoluteValue\n",
      "[2021-11-12 12:52:11,178 ks-labcamera-tis] INFO: Trigger/Burst Count: Range\n",
      "[2021-11-12 12:52:11,178 ks-labcamera-tis] INFO: Trigger/Overlap: MapStrings\n",
      "[2021-11-12 12:52:11,179 ks-labcamera-tis] INFO: Denoise/Value: Range\n",
      "[2021-11-12 12:52:11,179 ks-labcamera-tis] INFO: GPIO/GP IN: Range\n",
      "[2021-11-12 12:52:11,179 ks-labcamera-tis] INFO: GPIO/Read: Button\n",
      "[2021-11-12 12:52:11,179 ks-labcamera-tis] INFO: GPIO/GP Out: Range\n",
      "[2021-11-12 12:52:11,179 ks-labcamera-tis] INFO: GPIO/Write: Button\n",
      "[2021-11-12 12:52:11,180 ks-labcamera-tis] INFO: Binning factor/Value: MapStrings\n",
      "[2021-11-12 12:52:11,180 ks-labcamera-tis] INFO: Highlight Reduction/Enable: Switch\n",
      "[2021-11-12 12:52:11,180 ks-labcamera-tis] INFO: Tone Mapping/Enable: Switch\n",
      "[2021-11-12 12:52:11,180 ks-labcamera-tis] INFO: Tone Mapping/Intensity: AbsoluteValue\n",
      "[2021-11-12 12:52:11,181 ks-labcamera-tis] INFO: Tone Mapping/Global Brightness Factor: AbsoluteValue\n",
      "[2021-11-12 12:52:11,181 ks-labcamera-tis] INFO: Tone Mapping/Auto: Switch\n",
      "[2021-11-12 12:52:11,181 ks-labcamera-tis] INFO: Tone Mapping/a: AbsoluteValue\n",
      "[2021-11-12 12:52:11,181 ks-labcamera-tis] INFO: Tone Mapping/b: AbsoluteValue\n",
      "[2021-11-12 12:52:11,182 ks-labcamera-tis] INFO: Tone Mapping/c: AbsoluteValue\n",
      "[2021-11-12 12:52:11,182 ks-labcamera-tis] INFO: Tone Mapping/lum_avg: AbsoluteValue\n",
      "[2021-11-12 12:52:11,182 ks-labcamera-tis] INFO: Partial scan/Auto-center: Switch\n",
      "[2021-11-12 12:52:11,182 ks-labcamera-tis] INFO: Partial scan/X Offset: Range\n",
      "[2021-11-12 12:52:11,183 ks-labcamera-tis] INFO: Partial scan/Y Offset: Range\n",
      "[2021-11-12 12:52:11,183 ks-labcamera-tis] INFO: Strobe/Enable: Switch\n",
      "[2021-11-12 12:52:11,183 ks-labcamera-tis] INFO: Strobe/Mode: MapStrings\n",
      "[2021-11-12 12:52:11,183 ks-labcamera-tis] INFO: Strobe/Polarity: Switch\n",
      "[2021-11-12 12:52:11,183 ks-labcamera-tis] INFO: Auto Functions ROI/Enabled: Switch\n",
      "[2021-11-12 12:52:11,184 ks-labcamera-tis] INFO: Auto Functions ROI/Preset: MapStrings\n",
      "[2021-11-12 12:52:11,184 ks-labcamera-tis] INFO: Auto Functions ROI/Left: AbsoluteValue\n",
      "[2021-11-12 12:52:11,184 ks-labcamera-tis] INFO: Auto Functions ROI/Top: AbsoluteValue\n",
      "[2021-11-12 12:52:11,184 ks-labcamera-tis] INFO: Auto Functions ROI/Width: AbsoluteValue\n",
      "[2021-11-12 12:52:11,185 ks-labcamera-tis] INFO: Auto Functions ROI/Height: AbsoluteValue\n"
     ]
    }
   ],
   "source": [
    "dev = Device('DMK 33UP1300 2121006')"
   ]
  },
  {
   "cell_type": "code",
   "execution_count": 4,
   "id": "664c812e",
   "metadata": {},
   "outputs": [
    {
     "data": {
      "text/plain": [
       "True"
      ]
     },
     "execution_count": 4,
     "metadata": {},
     "output_type": "execute_result"
    }
   ],
   "source": [
    "dev._is_open()"
   ]
  },
  {
   "cell_type": "code",
   "execution_count": 5,
   "id": "f849fa29",
   "metadata": {},
   "outputs": [
    {
     "data": {
      "text/plain": [
       "True"
      ]
     },
     "execution_count": 5,
     "metadata": {},
     "output_type": "execute_result"
    }
   ],
   "source": [
    "dev.is_valid()"
   ]
  },
  {
   "cell_type": "code",
   "execution_count": 6,
   "id": "959d8f48",
   "metadata": {},
   "outputs": [
    {
     "data": {
      "text/plain": [
       "'Y16 (640x480)'"
      ]
     },
     "execution_count": 6,
     "metadata": {},
     "output_type": "execute_result"
    }
   ],
   "source": [
    "dev.video_format"
   ]
  },
  {
   "cell_type": "code",
   "execution_count": 7,
   "id": "247fa408",
   "metadata": {
    "scrolled": true
   },
   "outputs": [
    {
     "data": {
      "text/plain": [
       "('Y16 (256x16)',\n",
       " 'Y16 (320x240)',\n",
       " 'Y16 (320x256)',\n",
       " 'Y16 (320x480)',\n",
       " 'Y16 (352x240)',\n",
       " 'Y16 (352x288)',\n",
       " 'Y16 (384x288)',\n",
       " 'Y16 (640x240)',\n",
       " 'Y16 (640x288)',\n",
       " 'Y16 (640x480)',\n",
       " 'Y16 (640x512)',\n",
       " 'Y16 (704x576)',\n",
       " 'Y16 (720x240)',\n",
       " 'Y16 (720x288)',\n",
       " 'Y16 (720x480)',\n",
       " 'Y16 (720x576)',\n",
       " 'Y16 (768x576)',\n",
       " 'Y16 (1024x768)',\n",
       " 'Y16 (1280x960)',\n",
       " 'Y16 (1280x1024)',\n",
       " 'Y800 (256x16)',\n",
       " 'Y800 (320x240)',\n",
       " 'Y800 (320x256)',\n",
       " 'Y800 (320x480)',\n",
       " 'Y800 (352x240)',\n",
       " 'Y800 (352x288)',\n",
       " 'Y800 (384x288)',\n",
       " 'Y800 (640x240)',\n",
       " 'Y800 (640x288)',\n",
       " 'Y800 (640x480)',\n",
       " 'Y800 (640x512)',\n",
       " 'Y800 (704x576)',\n",
       " 'Y800 (720x240)',\n",
       " 'Y800 (720x288)',\n",
       " 'Y800 (720x480)',\n",
       " 'Y800 (720x576)',\n",
       " 'Y800 (768x576)',\n",
       " 'Y800 (1024x768)',\n",
       " 'Y800 (1280x960)',\n",
       " 'Y800 (1280x1024)',\n",
       " 'RGB24 (256x16)',\n",
       " 'RGB24 (320x240)',\n",
       " 'RGB24 (320x256)',\n",
       " 'RGB24 (320x480)',\n",
       " 'RGB24 (352x240)',\n",
       " 'RGB24 (352x288)',\n",
       " 'RGB24 (384x288)',\n",
       " 'RGB24 (640x240)',\n",
       " 'RGB24 (640x288)',\n",
       " 'RGB24 (640x480)',\n",
       " 'RGB24 (640x512)',\n",
       " 'RGB24 (704x576)',\n",
       " 'RGB24 (720x240)',\n",
       " 'RGB24 (720x288)',\n",
       " 'RGB24 (720x480)',\n",
       " 'RGB24 (720x576)',\n",
       " 'RGB24 (768x576)',\n",
       " 'RGB24 (1024x768)',\n",
       " 'RGB24 (1280x960)',\n",
       " 'RGB24 (1280x1024)')"
      ]
     },
     "execution_count": 7,
     "metadata": {},
     "output_type": "execute_result"
    }
   ],
   "source": [
    "dev.list_video_formats()"
   ]
  },
  {
   "cell_type": "code",
   "execution_count": 8,
   "id": "5077707e",
   "metadata": {},
   "outputs": [
    {
     "name": "stderr",
     "output_type": "stream",
     "text": [
      "[2021-11-12 12:52:11,207 ks-labcamera-tis] INFO: video format--> RGB24 (320x240), color: RGB24 (2), buffersize=230400\n"
     ]
    }
   ],
   "source": [
    "dev.video_format = 'RGB24 (320x240)'"
   ]
  },
  {
   "cell_type": "code",
   "execution_count": 9,
   "id": "30101346",
   "metadata": {},
   "outputs": [
    {
     "data": {
      "text/plain": [
       "'RGB24 (320x240)'"
      ]
     },
     "execution_count": 9,
     "metadata": {},
     "output_type": "execute_result"
    }
   ],
   "source": [
    "dev.video_format"
   ]
  },
  {
   "cell_type": "code",
   "execution_count": 10,
   "id": "2f67354b",
   "metadata": {},
   "outputs": [
    {
     "data": {
      "text/plain": [
       "False"
      ]
     },
     "execution_count": 10,
     "metadata": {},
     "output_type": "execute_result"
    }
   ],
   "source": [
    "dev.triggered"
   ]
  },
  {
   "cell_type": "code",
   "execution_count": 11,
   "id": "d69af5d5",
   "metadata": {},
   "outputs": [
    {
     "data": {
      "text/plain": [
       "False"
      ]
     },
     "execution_count": 11,
     "metadata": {},
     "output_type": "execute_result"
    }
   ],
   "source": [
    "dev.triggered = False\n",
    "dev.triggered"
   ]
  },
  {
   "cell_type": "code",
   "execution_count": 12,
   "id": "80b42c77",
   "metadata": {},
   "outputs": [
    {
     "data": {
      "text/plain": [
       "1.0"
      ]
     },
     "execution_count": 12,
     "metadata": {},
     "output_type": "execute_result"
    }
   ],
   "source": [
    "dev.frame_rate"
   ]
  },
  {
   "cell_type": "code",
   "execution_count": 13,
   "id": "ef3540cf",
   "metadata": {},
   "outputs": [
    {
     "data": {
      "text/plain": [
       "30.00003000003"
      ]
     },
     "execution_count": 13,
     "metadata": {},
     "output_type": "execute_result"
    }
   ],
   "source": [
    "dev.frame_rate = 2\n",
    "\n",
    "dev.frame_rate"
   ]
  },
  {
   "cell_type": "code",
   "execution_count": 14,
   "id": "8b10d408",
   "metadata": {},
   "outputs": [
    {
     "data": {
      "text/plain": [
       "('Range', 'AbsoluteValue')"
      ]
     },
     "execution_count": 14,
     "metadata": {},
     "output_type": "execute_result"
    }
   ],
   "source": [
    "dev.props[\"Exposure\"][\"Value\"].interfaces"
   ]
  },
  {
   "cell_type": "code",
   "execution_count": 15,
   "id": "a9a1f541",
   "metadata": {},
   "outputs": [
    {
     "data": {
      "text/plain": [
       "'Switch'"
      ]
     },
     "execution_count": 15,
     "metadata": {},
     "output_type": "execute_result"
    }
   ],
   "source": [
    "dev.props[\"Exposure\"][\"Auto\"].type"
   ]
  },
  {
   "cell_type": "code",
   "execution_count": 16,
   "id": "f9719382",
   "metadata": {
    "scrolled": true
   },
   "outputs": [
    {
     "data": {
      "text/plain": [
       "True"
      ]
     },
     "execution_count": 16,
     "metadata": {},
     "output_type": "execute_result"
    }
   ],
   "source": [
    "dev.props[\"Exposure\"][\"Auto\"].value"
   ]
  },
  {
   "cell_type": "code",
   "execution_count": 17,
   "id": "b8302bb6",
   "metadata": {},
   "outputs": [
    {
     "data": {
      "text/plain": [
       "0.013019000180065632"
      ]
     },
     "execution_count": 17,
     "metadata": {},
     "output_type": "execute_result"
    }
   ],
   "source": [
    "dev.props[\"Exposure\"][\"Value\"].value"
   ]
  },
  {
   "cell_type": "code",
   "execution_count": 18,
   "id": "a6ff650b",
   "metadata": {},
   "outputs": [
    {
     "data": {
      "text/plain": [
       "0.009999999776482582"
      ]
     },
     "execution_count": 18,
     "metadata": {},
     "output_type": "execute_result"
    }
   ],
   "source": [
    "dev.props[\"Exposure\"][\"Value\"].value = 0.010\n",
    "dev.props[\"Exposure\"][\"Value\"].value"
   ]
  },
  {
   "cell_type": "code",
   "execution_count": 19,
   "id": "e24436d8",
   "metadata": {},
   "outputs": [
    {
     "data": {
      "text/plain": [
       "'Factory Default'"
      ]
     },
     "execution_count": 19,
     "metadata": {},
     "output_type": "execute_result"
    }
   ],
   "source": [
    "dev.props[\"Startup Behavior\"][\"Status\"].value"
   ]
  },
  {
   "cell_type": "markdown",
   "id": "f7e6bbcc",
   "metadata": {},
   "source": [
    "## Testing capture"
   ]
  },
  {
   "cell_type": "code",
   "execution_count": 20,
   "id": "caf34872",
   "metadata": {},
   "outputs": [],
   "source": [
    "import numpy as np\n",
    "from time import sleep"
   ]
  },
  {
   "cell_type": "code",
   "execution_count": 21,
   "id": "b471079c",
   "metadata": {},
   "outputs": [],
   "source": [
    "def callback(frame):\n",
    "    print(f\"received a frame: shape={np.shape(frame)}\", flush=True)"
   ]
  },
  {
   "cell_type": "code",
   "execution_count": 22,
   "id": "24a9fb9d",
   "metadata": {},
   "outputs": [],
   "source": [
    "dev.callbacks.append(callback)"
   ]
  },
  {
   "cell_type": "code",
   "execution_count": 23,
   "id": "d9273bf1",
   "metadata": {
    "scrolled": false
   },
   "outputs": [],
   "source": [
    "dev.prepare()"
   ]
  },
  {
   "cell_type": "code",
   "execution_count": 24,
   "id": "8f59b918",
   "metadata": {},
   "outputs": [
    {
     "name": "stdout",
     "output_type": "stream",
     "text": [
      "received a frame: shape=()\n",
      "received a frame: shape=()\n",
      "received a frame: shape=()\n",
      "received a frame: shape=()\n",
      "received a frame: shape=()\n",
      "received a frame: shape=()\n",
      "received a frame: shape=()\n",
      "received a frame: shape=()\n",
      "received a frame: shape=()\n",
      "received a frame: shape=()\n",
      "received a frame: shape=()\n",
      "received a frame: shape=()\n",
      "received a frame: shape=()\n",
      "received a frame: shape=()\n",
      "received a frame: shape=()\n",
      "received a frame: shape=()\n",
      "received a frame: shape=()\n",
      "received a frame: shape=()\n",
      "received a frame: shape=()\n",
      "received a frame: shape=()\n",
      "received a frame: shape=()\n",
      "received a frame: shape=()\n",
      "received a frame: shape=()\n",
      "received a frame: shape=()\n",
      "received a frame: shape=()\n",
      "received a frame: shape=()\n",
      "received a frame: shape=()\n",
      "received a frame: shape=()\n",
      "received a frame: shape=()\n",
      "received a frame: shape=()\n",
      "received a frame: shape=()\n",
      "received a frame: shape=()\n",
      "received a frame: shape=()\n",
      "received a frame: shape=()\n",
      "received a frame: shape=()\n",
      "received a frame: shape=()\n",
      "received a frame: shape=()\n",
      "received a frame: shape=()\n",
      "received a frame: shape=()\n",
      "received a frame: shape=()\n",
      "received a frame: shape=()\n",
      "received a frame: shape=()\n",
      "received a frame: shape=()\n",
      "received a frame: shape=()\n",
      "received a frame: shape=()\n",
      "received a frame: shape=()\n",
      "received a frame: shape=()\n",
      "received a frame: shape=()\n",
      "received a frame: shape=()\n",
      "received a frame: shape=()\n",
      "received a frame: shape=()\n",
      "received a frame: shape=()\n",
      "received a frame: shape=()\n",
      "received a frame: shape=()\n",
      "received a frame: shape=()\n",
      "received a frame: shape=()\n",
      "received a frame: shape=()\n",
      "received a frame: shape=()\n"
     ]
    }
   ],
   "source": [
    "dev.start()\n",
    "sleep(2)"
   ]
  },
  {
   "cell_type": "code",
   "execution_count": 25,
   "id": "53a43d29",
   "metadata": {},
   "outputs": [],
   "source": [
    "dev.stop()"
   ]
  },
  {
   "cell_type": "code",
   "execution_count": 26,
   "id": "a5a7325c",
   "metadata": {},
   "outputs": [],
   "source": [
    "dev.close()"
   ]
  },
  {
   "cell_type": "code",
   "execution_count": 27,
   "id": "c2807095",
   "metadata": {},
   "outputs": [
    {
     "data": {
      "text/plain": [
       "False"
      ]
     },
     "execution_count": 27,
     "metadata": {},
     "output_type": "execute_result"
    }
   ],
   "source": [
    "dev.is_valid()"
   ]
  },
  {
   "cell_type": "code",
   "execution_count": 28,
   "id": "7f944a99",
   "metadata": {},
   "outputs": [],
   "source": [
    "del dev"
   ]
  },
  {
   "cell_type": "code",
   "execution_count": 29,
   "id": "6dc149dc",
   "metadata": {},
   "outputs": [],
   "source": [
    "del Device\n",
    "del labcamera_tis"
   ]
  },
  {
   "cell_type": "code",
   "execution_count": null,
   "id": "a7a9aa32",
   "metadata": {},
   "outputs": [],
   "source": []
  }
 ],
 "metadata": {
  "kernelspec": {
   "display_name": "Python 3",
   "language": "python",
   "name": "python3"
  },
  "language_info": {
   "codemirror_mode": {
    "name": "ipython",
    "version": 3
   },
   "file_extension": ".py",
   "mimetype": "text/x-python",
   "name": "python",
   "nbconvert_exporter": "python",
   "pygments_lexer": "ipython3",
   "version": "3.8.10"
  }
 },
 "nbformat": 4,
 "nbformat_minor": 5
}

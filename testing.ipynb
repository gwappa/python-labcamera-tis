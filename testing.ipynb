{
 "cells": [
  {
   "cell_type": "code",
   "execution_count": 1,
   "id": "38d0f61a",
   "metadata": {},
   "outputs": [
    {
     "name": "stderr",
     "output_type": "stream",
     "text": [
      "[2021-11-12 15:28:41,490 ks-labcamera-tis] INFO: loaded TIS_UDSHL\n"
     ]
    }
   ],
   "source": [
    "import labcamera_tis\n",
    "Device = labcamera_tis.Device"
   ]
  },
  {
   "cell_type": "code",
   "execution_count": 2,
   "id": "2d9a6db7",
   "metadata": {},
   "outputs": [
    {
     "data": {
      "text/plain": [
       "('DMK 33UP1300 2121006',)"
      ]
     },
     "execution_count": 2,
     "metadata": {},
     "output_type": "execute_result"
    }
   ],
   "source": [
    "Device.list_names()"
   ]
  },
  {
   "cell_type": "code",
   "execution_count": 3,
   "id": "8a2cba12",
   "metadata": {
    "scrolled": true
   },
   "outputs": [
    {
     "name": "stderr",
     "output_type": "stream",
     "text": [
      "[2021-11-12 15:28:47,339 ks-labcamera-tis] INFO: video format--> Y16 (640x480), color: Y16 (11), buffersize=614400\n",
      "[2021-11-12 15:28:47,671 ks-labcamera-tis] INFO: Startup Behavior/Save Current State: Button\n",
      "[2021-11-12 15:28:47,673 ks-labcamera-tis] INFO: Startup Behavior/Restore Factory Default: Button\n",
      "[2021-11-12 15:28:47,675 ks-labcamera-tis] INFO: Startup Behavior/Status: MapStrings\n",
      "[2021-11-12 15:28:47,677 ks-labcamera-tis] INFO: Brightness/Value: Range\n",
      "[2021-11-12 15:28:47,677 ks-labcamera-tis] INFO: Sharpness/Value: Range\n",
      "[2021-11-12 15:28:47,677 ks-labcamera-tis] INFO: Gamma/Value: AbsoluteValue\n",
      "[2021-11-12 15:28:47,677 ks-labcamera-tis] INFO: Gamma/Value: Range\n",
      "[2021-11-12 15:28:47,678 ks-labcamera-tis] INFO: Gain/Value: Range\n",
      "[2021-11-12 15:28:47,678 ks-labcamera-tis] INFO: Gain/Value: AbsoluteValue\n",
      "[2021-11-12 15:28:47,678 ks-labcamera-tis] INFO: Gain/Auto: Switch\n",
      "[2021-11-12 15:28:47,679 ks-labcamera-tis] INFO: Exposure/Value: Range\n",
      "[2021-11-12 15:28:47,679 ks-labcamera-tis] INFO: Exposure/Value: AbsoluteValue\n",
      "[2021-11-12 15:28:47,680 ks-labcamera-tis] INFO: Exposure/Auto: Switch\n",
      "[2021-11-12 15:28:47,680 ks-labcamera-tis] INFO: Exposure/Auto Reference: Range\n",
      "[2021-11-12 15:28:47,680 ks-labcamera-tis] INFO: Exposure/Auto Max Value: Range\n",
      "[2021-11-12 15:28:47,681 ks-labcamera-tis] INFO: Exposure/Auto Max Value: AbsoluteValue\n",
      "[2021-11-12 15:28:47,681 ks-labcamera-tis] INFO: Exposure/Auto: Switch\n",
      "[2021-11-12 15:28:47,681 ks-labcamera-tis] INFO: Trigger/Enable: Switch\n",
      "[2021-11-12 15:28:47,681 ks-labcamera-tis] INFO: Trigger/Software Trigger: Button\n",
      "[2021-11-12 15:28:47,682 ks-labcamera-tis] INFO: Trigger/Polarity: Switch\n",
      "[2021-11-12 15:28:47,682 ks-labcamera-tis] INFO: Trigger/Delay: AbsoluteValue\n",
      "[2021-11-12 15:28:47,682 ks-labcamera-tis] INFO: Trigger/Debounce Time: AbsoluteValue\n",
      "[2021-11-12 15:28:47,682 ks-labcamera-tis] INFO: Trigger/Mask Time: AbsoluteValue\n",
      "[2021-11-12 15:28:47,683 ks-labcamera-tis] INFO: Trigger/Noise Suppression Time: AbsoluteValue\n",
      "[2021-11-12 15:28:47,683 ks-labcamera-tis] INFO: Trigger/Burst Count: Range\n",
      "[2021-11-12 15:28:47,683 ks-labcamera-tis] INFO: Trigger/Overlap: MapStrings\n",
      "[2021-11-12 15:28:47,683 ks-labcamera-tis] INFO: Denoise/Value: Range\n",
      "[2021-11-12 15:28:47,684 ks-labcamera-tis] INFO: GPIO/GP IN: Range\n",
      "[2021-11-12 15:28:47,684 ks-labcamera-tis] INFO: GPIO/Read: Button\n",
      "[2021-11-12 15:28:47,684 ks-labcamera-tis] INFO: GPIO/GP Out: Range\n",
      "[2021-11-12 15:28:47,684 ks-labcamera-tis] INFO: GPIO/Write: Button\n",
      "[2021-11-12 15:28:47,685 ks-labcamera-tis] INFO: Binning factor/Value: MapStrings\n",
      "[2021-11-12 15:28:47,685 ks-labcamera-tis] INFO: Highlight Reduction/Enable: Switch\n",
      "[2021-11-12 15:28:47,685 ks-labcamera-tis] INFO: Tone Mapping/Enable: Switch\n",
      "[2021-11-12 15:28:47,685 ks-labcamera-tis] INFO: Tone Mapping/Intensity: AbsoluteValue\n",
      "[2021-11-12 15:28:47,686 ks-labcamera-tis] INFO: Tone Mapping/Global Brightness Factor: AbsoluteValue\n",
      "[2021-11-12 15:28:47,686 ks-labcamera-tis] INFO: Tone Mapping/Auto: Switch\n",
      "[2021-11-12 15:28:47,686 ks-labcamera-tis] INFO: Tone Mapping/a: AbsoluteValue\n",
      "[2021-11-12 15:28:47,687 ks-labcamera-tis] INFO: Tone Mapping/b: AbsoluteValue\n",
      "[2021-11-12 15:28:47,687 ks-labcamera-tis] INFO: Tone Mapping/c: AbsoluteValue\n",
      "[2021-11-12 15:28:47,687 ks-labcamera-tis] INFO: Tone Mapping/lum_avg: AbsoluteValue\n",
      "[2021-11-12 15:28:47,688 ks-labcamera-tis] INFO: Partial scan/Auto-center: Switch\n",
      "[2021-11-12 15:28:47,688 ks-labcamera-tis] INFO: Partial scan/X Offset: Range\n",
      "[2021-11-12 15:28:47,688 ks-labcamera-tis] INFO: Partial scan/Y Offset: Range\n",
      "[2021-11-12 15:28:47,688 ks-labcamera-tis] INFO: Strobe/Enable: Switch\n",
      "[2021-11-12 15:28:47,689 ks-labcamera-tis] INFO: Strobe/Mode: MapStrings\n",
      "[2021-11-12 15:28:47,689 ks-labcamera-tis] INFO: Strobe/Polarity: Switch\n",
      "[2021-11-12 15:28:47,689 ks-labcamera-tis] INFO: Auto Functions ROI/Enabled: Switch\n",
      "[2021-11-12 15:28:47,689 ks-labcamera-tis] INFO: Auto Functions ROI/Preset: MapStrings\n",
      "[2021-11-12 15:28:47,690 ks-labcamera-tis] INFO: Auto Functions ROI/Left: AbsoluteValue\n",
      "[2021-11-12 15:28:47,690 ks-labcamera-tis] INFO: Auto Functions ROI/Top: AbsoluteValue\n",
      "[2021-11-12 15:28:47,690 ks-labcamera-tis] INFO: Auto Functions ROI/Width: AbsoluteValue\n",
      "[2021-11-12 15:28:47,690 ks-labcamera-tis] INFO: Auto Functions ROI/Height: AbsoluteValue\n"
     ]
    }
   ],
   "source": [
    "dev = Device('DMK 33UP1300 2121006')"
   ]
  },
  {
   "cell_type": "code",
   "execution_count": 4,
   "id": "664c812e",
   "metadata": {},
   "outputs": [
    {
     "data": {
      "text/plain": [
       "True"
      ]
     },
     "execution_count": 4,
     "metadata": {},
     "output_type": "execute_result"
    }
   ],
   "source": [
    "dev._is_open()"
   ]
  },
  {
   "cell_type": "code",
   "execution_count": 5,
   "id": "f849fa29",
   "metadata": {},
   "outputs": [
    {
     "data": {
      "text/plain": [
       "True"
      ]
     },
     "execution_count": 5,
     "metadata": {},
     "output_type": "execute_result"
    }
   ],
   "source": [
    "dev.is_valid()"
   ]
  },
  {
   "cell_type": "code",
   "execution_count": 6,
   "id": "959d8f48",
   "metadata": {},
   "outputs": [
    {
     "data": {
      "text/plain": [
       "'Y16 (640x480)'"
      ]
     },
     "execution_count": 6,
     "metadata": {},
     "output_type": "execute_result"
    }
   ],
   "source": [
    "dev.video_format"
   ]
  },
  {
   "cell_type": "code",
   "execution_count": 7,
   "id": "247fa408",
   "metadata": {
    "scrolled": true
   },
   "outputs": [
    {
     "data": {
      "text/plain": [
       "('Y16 (256x16)',\n",
       " 'Y16 (320x240)',\n",
       " 'Y16 (320x256)',\n",
       " 'Y16 (320x480)',\n",
       " 'Y16 (352x240)',\n",
       " 'Y16 (352x288)',\n",
       " 'Y16 (384x288)',\n",
       " 'Y16 (640x240)',\n",
       " 'Y16 (640x288)',\n",
       " 'Y16 (640x480)',\n",
       " 'Y16 (640x512)',\n",
       " 'Y16 (704x576)',\n",
       " 'Y16 (720x240)',\n",
       " 'Y16 (720x288)',\n",
       " 'Y16 (720x480)',\n",
       " 'Y16 (720x576)',\n",
       " 'Y16 (768x576)',\n",
       " 'Y16 (1024x768)',\n",
       " 'Y16 (1280x960)',\n",
       " 'Y16 (1280x1024)',\n",
       " 'Y800 (256x16)',\n",
       " 'Y800 (320x240)',\n",
       " 'Y800 (320x256)',\n",
       " 'Y800 (320x480)',\n",
       " 'Y800 (352x240)',\n",
       " 'Y800 (352x288)',\n",
       " 'Y800 (384x288)',\n",
       " 'Y800 (640x240)',\n",
       " 'Y800 (640x288)',\n",
       " 'Y800 (640x480)',\n",
       " 'Y800 (640x512)',\n",
       " 'Y800 (704x576)',\n",
       " 'Y800 (720x240)',\n",
       " 'Y800 (720x288)',\n",
       " 'Y800 (720x480)',\n",
       " 'Y800 (720x576)',\n",
       " 'Y800 (768x576)',\n",
       " 'Y800 (1024x768)',\n",
       " 'Y800 (1280x960)',\n",
       " 'Y800 (1280x1024)',\n",
       " 'RGB24 (256x16)',\n",
       " 'RGB24 (320x240)',\n",
       " 'RGB24 (320x256)',\n",
       " 'RGB24 (320x480)',\n",
       " 'RGB24 (352x240)',\n",
       " 'RGB24 (352x288)',\n",
       " 'RGB24 (384x288)',\n",
       " 'RGB24 (640x240)',\n",
       " 'RGB24 (640x288)',\n",
       " 'RGB24 (640x480)',\n",
       " 'RGB24 (640x512)',\n",
       " 'RGB24 (704x576)',\n",
       " 'RGB24 (720x240)',\n",
       " 'RGB24 (720x288)',\n",
       " 'RGB24 (720x480)',\n",
       " 'RGB24 (720x576)',\n",
       " 'RGB24 (768x576)',\n",
       " 'RGB24 (1024x768)',\n",
       " 'RGB24 (1280x960)',\n",
       " 'RGB24 (1280x1024)')"
      ]
     },
     "execution_count": 7,
     "metadata": {},
     "output_type": "execute_result"
    }
   ],
   "source": [
    "dev.list_video_formats()"
   ]
  },
  {
   "cell_type": "code",
   "execution_count": 8,
   "id": "5077707e",
   "metadata": {},
   "outputs": [
    {
     "name": "stderr",
     "output_type": "stream",
     "text": [
      "[2021-11-12 15:28:47,714 ks-labcamera-tis] INFO: video format--> RGB24 (320x240), color: RGB24 (2), buffersize=230400\n"
     ]
    }
   ],
   "source": [
    "dev.video_format = 'RGB24 (320x240)'"
   ]
  },
  {
   "cell_type": "code",
   "execution_count": 9,
   "id": "30101346",
   "metadata": {},
   "outputs": [
    {
     "data": {
      "text/plain": [
       "'RGB24 (320x240)'"
      ]
     },
     "execution_count": 9,
     "metadata": {},
     "output_type": "execute_result"
    }
   ],
   "source": [
    "dev.video_format"
   ]
  },
  {
   "cell_type": "code",
   "execution_count": 10,
   "id": "2f67354b",
   "metadata": {},
   "outputs": [
    {
     "data": {
      "text/plain": [
       "False"
      ]
     },
     "execution_count": 10,
     "metadata": {},
     "output_type": "execute_result"
    }
   ],
   "source": [
    "dev.triggered"
   ]
  },
  {
   "cell_type": "code",
   "execution_count": 11,
   "id": "d69af5d5",
   "metadata": {},
   "outputs": [
    {
     "data": {
      "text/plain": [
       "False"
      ]
     },
     "execution_count": 11,
     "metadata": {},
     "output_type": "execute_result"
    }
   ],
   "source": [
    "dev.triggered = False\n",
    "dev.triggered"
   ]
  },
  {
   "cell_type": "code",
   "execution_count": 12,
   "id": "80b42c77",
   "metadata": {},
   "outputs": [
    {
     "data": {
      "text/plain": [
       "1.0"
      ]
     },
     "execution_count": 12,
     "metadata": {},
     "output_type": "execute_result"
    }
   ],
   "source": [
    "dev.frame_rate"
   ]
  },
  {
   "cell_type": "code",
   "execution_count": 13,
   "id": "ef3540cf",
   "metadata": {},
   "outputs": [
    {
     "data": {
      "text/plain": [
       "2.0"
      ]
     },
     "execution_count": 13,
     "metadata": {},
     "output_type": "execute_result"
    }
   ],
   "source": [
    "dev.frame_rate = 2\n",
    "\n",
    "dev.frame_rate"
   ]
  },
  {
   "cell_type": "code",
   "execution_count": 14,
   "id": "8b10d408",
   "metadata": {},
   "outputs": [
    {
     "data": {
      "text/plain": [
       "('Range', 'AbsoluteValue')"
      ]
     },
     "execution_count": 14,
     "metadata": {},
     "output_type": "execute_result"
    }
   ],
   "source": [
    "dev.props[\"Exposure\"][\"Value\"].interfaces"
   ]
  },
  {
   "cell_type": "code",
   "execution_count": 15,
   "id": "a9a1f541",
   "metadata": {},
   "outputs": [
    {
     "data": {
      "text/plain": [
       "'Switch'"
      ]
     },
     "execution_count": 15,
     "metadata": {},
     "output_type": "execute_result"
    }
   ],
   "source": [
    "dev.props[\"Exposure\"][\"Auto\"].type"
   ]
  },
  {
   "cell_type": "code",
   "execution_count": 16,
   "id": "f9719382",
   "metadata": {
    "scrolled": true
   },
   "outputs": [
    {
     "data": {
      "text/plain": [
       "True"
      ]
     },
     "execution_count": 16,
     "metadata": {},
     "output_type": "execute_result"
    }
   ],
   "source": [
    "dev.props[\"Exposure\"][\"Auto\"].value"
   ]
  },
  {
   "cell_type": "code",
   "execution_count": 17,
   "id": "b8302bb6",
   "metadata": {},
   "outputs": [
    {
     "data": {
      "text/plain": [
       "0.009999999776482582"
      ]
     },
     "execution_count": 17,
     "metadata": {},
     "output_type": "execute_result"
    }
   ],
   "source": [
    "dev.props[\"Exposure\"][\"Value\"].value"
   ]
  },
  {
   "cell_type": "code",
   "execution_count": 18,
   "id": "a6ff650b",
   "metadata": {},
   "outputs": [
    {
     "data": {
      "text/plain": [
       "0.009999999776482582"
      ]
     },
     "execution_count": 18,
     "metadata": {},
     "output_type": "execute_result"
    }
   ],
   "source": [
    "dev.props[\"Exposure\"][\"Value\"].value = 0.010\n",
    "dev.props[\"Exposure\"][\"Value\"].value"
   ]
  },
  {
   "cell_type": "code",
   "execution_count": 19,
   "id": "e24436d8",
   "metadata": {},
   "outputs": [
    {
     "data": {
      "text/plain": [
       "'Factory Default'"
      ]
     },
     "execution_count": 19,
     "metadata": {},
     "output_type": "execute_result"
    }
   ],
   "source": [
    "dev.props[\"Startup Behavior\"][\"Status\"].value"
   ]
  },
  {
   "cell_type": "markdown",
   "id": "88138b75",
   "metadata": {},
   "source": [
    "## Testing capture"
   ]
  },
  {
   "cell_type": "code",
   "execution_count": 20,
   "id": "ddaf02e6",
   "metadata": {},
   "outputs": [],
   "source": [
    "import numpy as np\n",
    "import matplotlib.pyplot as plt\n",
    "from time import sleep"
   ]
  },
  {
   "cell_type": "code",
   "execution_count": 21,
   "id": "cdf4dd66",
   "metadata": {},
   "outputs": [],
   "source": [
    "FRAME = None\n",
    "\n",
    "def callback(frame):\n",
    "    global FRAME\n",
    "    print(f\"received a frame: shape={np.shape(frame)}\", flush=True)\n",
    "    if frame is not None:\n",
    "        FRAME = frame.copy()"
   ]
  },
  {
   "cell_type": "code",
   "execution_count": 22,
   "id": "4b0ae288",
   "metadata": {},
   "outputs": [],
   "source": [
    "dev.callbacks.append(callback)"
   ]
  },
  {
   "cell_type": "code",
   "execution_count": 23,
   "id": "bce37c76",
   "metadata": {
    "scrolled": false
   },
   "outputs": [],
   "source": [
    "dev.prepare(buffers=10)"
   ]
  },
  {
   "cell_type": "code",
   "execution_count": 24,
   "id": "61381396",
   "metadata": {},
   "outputs": [],
   "source": [
    "dev.start()\n",
    "sleep(2)"
   ]
  },
  {
   "cell_type": "code",
   "execution_count": 25,
   "id": "447ff9c5",
   "metadata": {},
   "outputs": [
    {
     "name": "stdout",
     "output_type": "stream",
     "text": [
      "received a frame: shape=()\n"
     ]
    }
   ],
   "source": [
    "dev.stop()"
   ]
  },
  {
   "cell_type": "code",
   "execution_count": 26,
   "id": "a7a9aa32",
   "metadata": {},
   "outputs": [
    {
     "ename": "TypeError",
     "evalue": "Image data of dtype object cannot be converted to float",
     "output_type": "error",
     "traceback": [
      "\u001b[1;31m---------------------------------------------------------------------------\u001b[0m",
      "\u001b[1;31mTypeError\u001b[0m                                 Traceback (most recent call last)",
      "\u001b[1;32m<ipython-input-26-4e1d13f7f139>\u001b[0m in \u001b[0;36m<module>\u001b[1;34m\u001b[0m\n\u001b[1;32m----> 1\u001b[1;33m \u001b[0mplt\u001b[0m\u001b[1;33m.\u001b[0m\u001b[0mimshow\u001b[0m\u001b[1;33m(\u001b[0m\u001b[0mFRAME\u001b[0m\u001b[1;33m)\u001b[0m\u001b[1;33m\u001b[0m\u001b[1;33m\u001b[0m\u001b[0m\n\u001b[0m\u001b[0;32m      2\u001b[0m \u001b[0mplt\u001b[0m\u001b[1;33m.\u001b[0m\u001b[0mgca\u001b[0m\u001b[1;33m(\u001b[0m\u001b[1;33m)\u001b[0m\u001b[1;33m.\u001b[0m\u001b[0mset_axis_off\u001b[0m\u001b[1;33m(\u001b[0m\u001b[1;33m)\u001b[0m\u001b[1;33m\u001b[0m\u001b[1;33m\u001b[0m\u001b[0m\n\u001b[0;32m      3\u001b[0m \u001b[0mplt\u001b[0m\u001b[1;33m.\u001b[0m\u001b[0mshow\u001b[0m\u001b[1;33m(\u001b[0m\u001b[1;33m)\u001b[0m\u001b[1;33m\u001b[0m\u001b[1;33m\u001b[0m\u001b[0m\n",
      "\u001b[1;32m~\\miniconda3\\envs\\cv\\lib\\site-packages\\matplotlib\\pyplot.py\u001b[0m in \u001b[0;36mimshow\u001b[1;34m(X, cmap, norm, aspect, interpolation, alpha, vmin, vmax, origin, extent, filternorm, filterrad, resample, url, data, **kwargs)\u001b[0m\n\u001b[0;32m   2722\u001b[0m         \u001b[0mfilternorm\u001b[0m\u001b[1;33m=\u001b[0m\u001b[1;32mTrue\u001b[0m\u001b[1;33m,\u001b[0m \u001b[0mfilterrad\u001b[0m\u001b[1;33m=\u001b[0m\u001b[1;36m4.0\u001b[0m\u001b[1;33m,\u001b[0m \u001b[0mresample\u001b[0m\u001b[1;33m=\u001b[0m\u001b[1;32mNone\u001b[0m\u001b[1;33m,\u001b[0m \u001b[0murl\u001b[0m\u001b[1;33m=\u001b[0m\u001b[1;32mNone\u001b[0m\u001b[1;33m,\u001b[0m\u001b[1;33m\u001b[0m\u001b[1;33m\u001b[0m\u001b[0m\n\u001b[0;32m   2723\u001b[0m         data=None, **kwargs):\n\u001b[1;32m-> 2724\u001b[1;33m     __ret = gca().imshow(\n\u001b[0m\u001b[0;32m   2725\u001b[0m         \u001b[0mX\u001b[0m\u001b[1;33m,\u001b[0m \u001b[0mcmap\u001b[0m\u001b[1;33m=\u001b[0m\u001b[0mcmap\u001b[0m\u001b[1;33m,\u001b[0m \u001b[0mnorm\u001b[0m\u001b[1;33m=\u001b[0m\u001b[0mnorm\u001b[0m\u001b[1;33m,\u001b[0m \u001b[0maspect\u001b[0m\u001b[1;33m=\u001b[0m\u001b[0maspect\u001b[0m\u001b[1;33m,\u001b[0m\u001b[1;33m\u001b[0m\u001b[1;33m\u001b[0m\u001b[0m\n\u001b[0;32m   2726\u001b[0m         \u001b[0minterpolation\u001b[0m\u001b[1;33m=\u001b[0m\u001b[0minterpolation\u001b[0m\u001b[1;33m,\u001b[0m \u001b[0malpha\u001b[0m\u001b[1;33m=\u001b[0m\u001b[0malpha\u001b[0m\u001b[1;33m,\u001b[0m \u001b[0mvmin\u001b[0m\u001b[1;33m=\u001b[0m\u001b[0mvmin\u001b[0m\u001b[1;33m,\u001b[0m\u001b[1;33m\u001b[0m\u001b[1;33m\u001b[0m\u001b[0m\n",
      "\u001b[1;32m~\\miniconda3\\envs\\cv\\lib\\site-packages\\matplotlib\\__init__.py\u001b[0m in \u001b[0;36minner\u001b[1;34m(ax, data, *args, **kwargs)\u001b[0m\n\u001b[0;32m   1445\u001b[0m     \u001b[1;32mdef\u001b[0m \u001b[0minner\u001b[0m\u001b[1;33m(\u001b[0m\u001b[0max\u001b[0m\u001b[1;33m,\u001b[0m \u001b[1;33m*\u001b[0m\u001b[0margs\u001b[0m\u001b[1;33m,\u001b[0m \u001b[0mdata\u001b[0m\u001b[1;33m=\u001b[0m\u001b[1;32mNone\u001b[0m\u001b[1;33m,\u001b[0m \u001b[1;33m**\u001b[0m\u001b[0mkwargs\u001b[0m\u001b[1;33m)\u001b[0m\u001b[1;33m:\u001b[0m\u001b[1;33m\u001b[0m\u001b[1;33m\u001b[0m\u001b[0m\n\u001b[0;32m   1446\u001b[0m         \u001b[1;32mif\u001b[0m \u001b[0mdata\u001b[0m \u001b[1;32mis\u001b[0m \u001b[1;32mNone\u001b[0m\u001b[1;33m:\u001b[0m\u001b[1;33m\u001b[0m\u001b[1;33m\u001b[0m\u001b[0m\n\u001b[1;32m-> 1447\u001b[1;33m             \u001b[1;32mreturn\u001b[0m \u001b[0mfunc\u001b[0m\u001b[1;33m(\u001b[0m\u001b[0max\u001b[0m\u001b[1;33m,\u001b[0m \u001b[1;33m*\u001b[0m\u001b[0mmap\u001b[0m\u001b[1;33m(\u001b[0m\u001b[0msanitize_sequence\u001b[0m\u001b[1;33m,\u001b[0m \u001b[0margs\u001b[0m\u001b[1;33m)\u001b[0m\u001b[1;33m,\u001b[0m \u001b[1;33m**\u001b[0m\u001b[0mkwargs\u001b[0m\u001b[1;33m)\u001b[0m\u001b[1;33m\u001b[0m\u001b[1;33m\u001b[0m\u001b[0m\n\u001b[0m\u001b[0;32m   1448\u001b[0m \u001b[1;33m\u001b[0m\u001b[0m\n\u001b[0;32m   1449\u001b[0m         \u001b[0mbound\u001b[0m \u001b[1;33m=\u001b[0m \u001b[0mnew_sig\u001b[0m\u001b[1;33m.\u001b[0m\u001b[0mbind\u001b[0m\u001b[1;33m(\u001b[0m\u001b[0max\u001b[0m\u001b[1;33m,\u001b[0m \u001b[1;33m*\u001b[0m\u001b[0margs\u001b[0m\u001b[1;33m,\u001b[0m \u001b[1;33m**\u001b[0m\u001b[0mkwargs\u001b[0m\u001b[1;33m)\u001b[0m\u001b[1;33m\u001b[0m\u001b[1;33m\u001b[0m\u001b[0m\n",
      "\u001b[1;32m~\\miniconda3\\envs\\cv\\lib\\site-packages\\matplotlib\\axes\\_axes.py\u001b[0m in \u001b[0;36mimshow\u001b[1;34m(self, X, cmap, norm, aspect, interpolation, alpha, vmin, vmax, origin, extent, filternorm, filterrad, resample, url, **kwargs)\u001b[0m\n\u001b[0;32m   5521\u001b[0m                               resample=resample, **kwargs)\n\u001b[0;32m   5522\u001b[0m \u001b[1;33m\u001b[0m\u001b[0m\n\u001b[1;32m-> 5523\u001b[1;33m         \u001b[0mim\u001b[0m\u001b[1;33m.\u001b[0m\u001b[0mset_data\u001b[0m\u001b[1;33m(\u001b[0m\u001b[0mX\u001b[0m\u001b[1;33m)\u001b[0m\u001b[1;33m\u001b[0m\u001b[1;33m\u001b[0m\u001b[0m\n\u001b[0m\u001b[0;32m   5524\u001b[0m         \u001b[0mim\u001b[0m\u001b[1;33m.\u001b[0m\u001b[0mset_alpha\u001b[0m\u001b[1;33m(\u001b[0m\u001b[0malpha\u001b[0m\u001b[1;33m)\u001b[0m\u001b[1;33m\u001b[0m\u001b[1;33m\u001b[0m\u001b[0m\n\u001b[0;32m   5525\u001b[0m         \u001b[1;32mif\u001b[0m \u001b[0mim\u001b[0m\u001b[1;33m.\u001b[0m\u001b[0mget_clip_path\u001b[0m\u001b[1;33m(\u001b[0m\u001b[1;33m)\u001b[0m \u001b[1;32mis\u001b[0m \u001b[1;32mNone\u001b[0m\u001b[1;33m:\u001b[0m\u001b[1;33m\u001b[0m\u001b[1;33m\u001b[0m\u001b[0m\n",
      "\u001b[1;32m~\\miniconda3\\envs\\cv\\lib\\site-packages\\matplotlib\\image.py\u001b[0m in \u001b[0;36mset_data\u001b[1;34m(self, A)\u001b[0m\n\u001b[0;32m    700\u001b[0m         if (self._A.dtype != np.uint8 and\n\u001b[0;32m    701\u001b[0m                 not np.can_cast(self._A.dtype, float, \"same_kind\")):\n\u001b[1;32m--> 702\u001b[1;33m             raise TypeError(\"Image data of dtype {} cannot be converted to \"\n\u001b[0m\u001b[0;32m    703\u001b[0m                             \"float\".format(self._A.dtype))\n\u001b[0;32m    704\u001b[0m \u001b[1;33m\u001b[0m\u001b[0m\n",
      "\u001b[1;31mTypeError\u001b[0m: Image data of dtype object cannot be converted to float"
     ]
    }
   ],
   "source": [
    "plt.imshow(FRAME)\n",
    "plt.gca().set_axis_off()\n",
    "plt.show()"
   ]
  },
  {
   "cell_type": "code",
   "execution_count": 27,
   "id": "a5a7325c",
   "metadata": {},
   "outputs": [],
   "source": [
    "dev.close()"
   ]
  },
  {
   "cell_type": "code",
   "execution_count": 28,
   "id": "c2807095",
   "metadata": {},
   "outputs": [
    {
     "data": {
      "text/plain": [
       "False"
      ]
     },
     "execution_count": 28,
     "metadata": {},
     "output_type": "execute_result"
    }
   ],
   "source": [
    "dev.is_valid()"
   ]
  },
  {
   "cell_type": "code",
   "execution_count": 29,
   "id": "7f944a99",
   "metadata": {},
   "outputs": [],
   "source": [
    "del dev"
   ]
  },
  {
   "cell_type": "code",
   "execution_count": 30,
   "id": "6dc149dc",
   "metadata": {},
   "outputs": [],
   "source": [
    "del Device\n",
    "del labcamera_tis"
   ]
  },
  {
   "cell_type": "code",
   "execution_count": null,
   "id": "219c3cdc",
   "metadata": {},
   "outputs": [],
   "source": []
  }
 ],
 "metadata": {
  "kernelspec": {
   "display_name": "Python 3",
   "language": "python",
   "name": "python3"
  },
  "language_info": {
   "codemirror_mode": {
    "name": "ipython",
    "version": 3
   },
   "file_extension": ".py",
   "mimetype": "text/x-python",
   "name": "python",
   "nbconvert_exporter": "python",
   "pygments_lexer": "ipython3",
   "version": "3.8.10"
  }
 },
 "nbformat": 4,
 "nbformat_minor": 5
}

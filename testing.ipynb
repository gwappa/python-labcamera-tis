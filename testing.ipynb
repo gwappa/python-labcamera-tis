{
 "cells": [
  {
   "cell_type": "code",
   "execution_count": 1,
   "id": "38d0f61a",
   "metadata": {},
   "outputs": [
    {
     "name": "stderr",
     "output_type": "stream",
     "text": [
      "[2021-11-19 14:45:36,694 ks-labcamera-tis] INFO: loaded TIS_UDSHL\n"
     ]
    }
   ],
   "source": [
    "import labcamera_tis\n",
    "Device = labcamera_tis.Device"
   ]
  },
  {
   "cell_type": "code",
   "execution_count": 2,
   "id": "205bd682",
   "metadata": {},
   "outputs": [],
   "source": [
    "CONFIG_FRAME_RATE  = 30\n",
    "CONFIG_EXT_TRIGGER = False"
   ]
  },
  {
   "cell_type": "code",
   "execution_count": 3,
   "id": "2d9a6db7",
   "metadata": {
    "scrolled": true
   },
   "outputs": [
    {
     "data": {
      "text/plain": [
       "('DMK 33UP1300 2121006',)"
      ]
     },
     "execution_count": 3,
     "metadata": {},
     "output_type": "execute_result"
    }
   ],
   "source": [
    "Device.list_names()"
   ]
  },
  {
   "cell_type": "code",
   "execution_count": 4,
   "id": "8a2cba12",
   "metadata": {
    "scrolled": true
   },
   "outputs": [
    {
     "name": "stderr",
     "output_type": "stream",
     "text": [
      "[2021-11-19 14:45:42,447 ks-labcamera-tis] WARNING: cannot flip images vertically in hardware\n"
     ]
    }
   ],
   "source": [
    "dev = Device('DMK 33UP1300 2121006')"
   ]
  },
  {
   "cell_type": "code",
   "execution_count": 5,
   "id": "664c812e",
   "metadata": {},
   "outputs": [
    {
     "data": {
      "text/plain": [
       "True"
      ]
     },
     "execution_count": 5,
     "metadata": {},
     "output_type": "execute_result"
    }
   ],
   "source": [
    "dev._is_open()"
   ]
  },
  {
   "cell_type": "code",
   "execution_count": 6,
   "id": "f849fa29",
   "metadata": {},
   "outputs": [
    {
     "data": {
      "text/plain": [
       "True"
      ]
     },
     "execution_count": 6,
     "metadata": {},
     "output_type": "execute_result"
    }
   ],
   "source": [
    "dev.is_valid()"
   ]
  },
  {
   "cell_type": "code",
   "execution_count": 7,
   "id": "959d8f48",
   "metadata": {},
   "outputs": [
    {
     "data": {
      "text/plain": [
       "'Y16 (640x480)'"
      ]
     },
     "execution_count": 7,
     "metadata": {},
     "output_type": "execute_result"
    }
   ],
   "source": [
    "dev.video_format"
   ]
  },
  {
   "cell_type": "code",
   "execution_count": 8,
   "id": "247fa408",
   "metadata": {
    "scrolled": true
   },
   "outputs": [
    {
     "data": {
      "text/plain": [
       "('Y16 (256x16)',\n",
       " 'Y16 (320x240)',\n",
       " 'Y16 (320x256)',\n",
       " 'Y16 (320x480)',\n",
       " 'Y16 (352x240)',\n",
       " 'Y16 (352x288)',\n",
       " 'Y16 (384x288)',\n",
       " 'Y16 (640x240)',\n",
       " 'Y16 (640x288)',\n",
       " 'Y16 (640x480)',\n",
       " 'Y16 (640x512)',\n",
       " 'Y16 (704x576)',\n",
       " 'Y16 (720x240)',\n",
       " 'Y16 (720x288)',\n",
       " 'Y16 (720x480)',\n",
       " 'Y16 (720x576)',\n",
       " 'Y16 (768x576)',\n",
       " 'Y16 (1024x768)',\n",
       " 'Y16 (1280x960)',\n",
       " 'Y16 (1280x1024)',\n",
       " 'Y800 (256x16)',\n",
       " 'Y800 (320x240)',\n",
       " 'Y800 (320x256)',\n",
       " 'Y800 (320x480)',\n",
       " 'Y800 (352x240)',\n",
       " 'Y800 (352x288)',\n",
       " 'Y800 (384x288)',\n",
       " 'Y800 (640x240)',\n",
       " 'Y800 (640x288)',\n",
       " 'Y800 (640x480)',\n",
       " 'Y800 (640x512)',\n",
       " 'Y800 (704x576)',\n",
       " 'Y800 (720x240)',\n",
       " 'Y800 (720x288)',\n",
       " 'Y800 (720x480)',\n",
       " 'Y800 (720x576)',\n",
       " 'Y800 (768x576)',\n",
       " 'Y800 (1024x768)',\n",
       " 'Y800 (1280x960)',\n",
       " 'Y800 (1280x1024)',\n",
       " 'RGB24 (256x16)',\n",
       " 'RGB24 (320x240)',\n",
       " 'RGB24 (320x256)',\n",
       " 'RGB24 (320x480)',\n",
       " 'RGB24 (352x240)',\n",
       " 'RGB24 (352x288)',\n",
       " 'RGB24 (384x288)',\n",
       " 'RGB24 (640x240)',\n",
       " 'RGB24 (640x288)',\n",
       " 'RGB24 (640x480)',\n",
       " 'RGB24 (640x512)',\n",
       " 'RGB24 (704x576)',\n",
       " 'RGB24 (720x240)',\n",
       " 'RGB24 (720x288)',\n",
       " 'RGB24 (720x480)',\n",
       " 'RGB24 (720x576)',\n",
       " 'RGB24 (768x576)',\n",
       " 'RGB24 (1024x768)',\n",
       " 'RGB24 (1280x960)',\n",
       " 'RGB24 (1280x1024)')"
      ]
     },
     "execution_count": 8,
     "metadata": {},
     "output_type": "execute_result"
    }
   ],
   "source": [
    "dev.list_video_formats()"
   ]
  },
  {
   "cell_type": "code",
   "execution_count": 9,
   "id": "5077707e",
   "metadata": {},
   "outputs": [],
   "source": [
    "dev.video_format = 'RGB24 (320x240)'"
   ]
  },
  {
   "cell_type": "code",
   "execution_count": 10,
   "id": "30101346",
   "metadata": {},
   "outputs": [
    {
     "data": {
      "text/plain": [
       "'RGB24 (320x240)'"
      ]
     },
     "execution_count": 10,
     "metadata": {},
     "output_type": "execute_result"
    }
   ],
   "source": [
    "dev.video_format"
   ]
  },
  {
   "cell_type": "code",
   "execution_count": 11,
   "id": "2f67354b",
   "metadata": {},
   "outputs": [
    {
     "data": {
      "text/plain": [
       "False"
      ]
     },
     "execution_count": 11,
     "metadata": {},
     "output_type": "execute_result"
    }
   ],
   "source": [
    "dev.triggered"
   ]
  },
  {
   "cell_type": "code",
   "execution_count": 12,
   "id": "d69af5d5",
   "metadata": {},
   "outputs": [
    {
     "data": {
      "text/plain": [
       "False"
      ]
     },
     "execution_count": 12,
     "metadata": {},
     "output_type": "execute_result"
    }
   ],
   "source": [
    "dev.triggered = CONFIG_EXT_TRIGGER\n",
    "dev.triggered"
   ]
  },
  {
   "cell_type": "code",
   "execution_count": 13,
   "id": "80b42c77",
   "metadata": {},
   "outputs": [
    {
     "data": {
      "text/plain": [
       "1.0"
      ]
     },
     "execution_count": 13,
     "metadata": {},
     "output_type": "execute_result"
    }
   ],
   "source": [
    "dev.frame_rate"
   ]
  },
  {
   "cell_type": "code",
   "execution_count": 14,
   "id": "ef3540cf",
   "metadata": {},
   "outputs": [
    {
     "data": {
      "text/plain": [
       "30.00003000003"
      ]
     },
     "execution_count": 14,
     "metadata": {},
     "output_type": "execute_result"
    }
   ],
   "source": [
    "dev.frame_rate = CONFIG_FRAME_RATE\n",
    "\n",
    "dev.frame_rate"
   ]
  },
  {
   "cell_type": "code",
   "execution_count": 15,
   "id": "8b10d408",
   "metadata": {},
   "outputs": [
    {
     "data": {
      "text/plain": [
       "('Range', 'AbsoluteValue')"
      ]
     },
     "execution_count": 15,
     "metadata": {},
     "output_type": "execute_result"
    }
   ],
   "source": [
    "dev.props[\"Exposure\"][\"Value\"].interfaces"
   ]
  },
  {
   "cell_type": "code",
   "execution_count": 16,
   "id": "a9a1f541",
   "metadata": {},
   "outputs": [
    {
     "data": {
      "text/plain": [
       "'Switch'"
      ]
     },
     "execution_count": 16,
     "metadata": {},
     "output_type": "execute_result"
    }
   ],
   "source": [
    "dev.props[\"Exposure\"][\"Auto\"].type"
   ]
  },
  {
   "cell_type": "code",
   "execution_count": 17,
   "id": "f9719382",
   "metadata": {
    "scrolled": true
   },
   "outputs": [
    {
     "data": {
      "text/plain": [
       "False"
      ]
     },
     "execution_count": 17,
     "metadata": {},
     "output_type": "execute_result"
    }
   ],
   "source": [
    "dev.props[\"Exposure\"][\"Auto\"].value"
   ]
  },
  {
   "cell_type": "code",
   "execution_count": 18,
   "id": "b8302bb6",
   "metadata": {},
   "outputs": [
    {
     "data": {
      "text/plain": [
       "0.10000000149011612"
      ]
     },
     "execution_count": 18,
     "metadata": {},
     "output_type": "execute_result"
    }
   ],
   "source": [
    "dev.props[\"Exposure\"][\"Value\"].value"
   ]
  },
  {
   "cell_type": "code",
   "execution_count": 19,
   "id": "a6ff650b",
   "metadata": {},
   "outputs": [
    {
     "data": {
      "text/plain": [
       "0.009999999776482582"
      ]
     },
     "execution_count": 19,
     "metadata": {},
     "output_type": "execute_result"
    }
   ],
   "source": [
    "dev.props[\"Exposure\"][\"Value\"].value = 0.010\n",
    "dev.props[\"Exposure\"][\"Value\"].value"
   ]
  },
  {
   "cell_type": "code",
   "execution_count": 20,
   "id": "e24436d8",
   "metadata": {},
   "outputs": [
    {
     "data": {
      "text/plain": [
       "'Factory Default'"
      ]
     },
     "execution_count": 20,
     "metadata": {},
     "output_type": "execute_result"
    }
   ],
   "source": [
    "dev.props[\"Startup Behavior\"][\"Status\"].value"
   ]
  },
  {
   "cell_type": "markdown",
   "id": "402df6f2",
   "metadata": {},
   "source": [
    "## Testing strobe output"
   ]
  },
  {
   "cell_type": "code",
   "execution_count": 21,
   "id": "ddaf02e6",
   "metadata": {},
   "outputs": [],
   "source": [
    "import numpy as np\n",
    "import matplotlib.pyplot as plt\n",
    "from time import sleep"
   ]
  },
  {
   "cell_type": "code",
   "execution_count": 22,
   "id": "1d61f0ff",
   "metadata": {},
   "outputs": [],
   "source": [
    "assert dev.strobe == False"
   ]
  },
  {
   "cell_type": "code",
   "execution_count": 23,
   "id": "2e270c78",
   "metadata": {},
   "outputs": [
    {
     "name": "stdout",
     "output_type": "stream",
     "text": [
      "running... done.\n"
     ]
    }
   ],
   "source": [
    "print(\"running... \", end=\"\", flush=True)\n",
    "dev.triggered = False\n",
    "dev.prepare(buffer_size=0)\n",
    "dev.start(strobe=True)\n",
    "\n",
    "try:\n",
    "    sleep(5)\n",
    "finally:\n",
    "    dev.stop(strobe=False)\n",
    "    \n",
    "print(f\"done.\", flush=True)"
   ]
  },
  {
   "cell_type": "code",
   "execution_count": 25,
   "id": "af4ba1b7",
   "metadata": {},
   "outputs": [
    {
     "name": "stdout",
     "output_type": "stream",
     "text": [
      "running... done.\n"
     ]
    }
   ],
   "source": [
    "print(\"running... \", end=\"\", flush=True)\n",
    "dev.triggered = True\n",
    "dev.prepare(buffer_size=0)\n",
    "dev.start(strobe=True)\n",
    "\n",
    "try:\n",
    "    sleep(10)\n",
    "finally:\n",
    "    dev.stop(strobe=False)\n",
    "dev.triggered = False\n",
    "    \n",
    "print(f\"done.\", flush=True)"
   ]
  },
  {
   "cell_type": "markdown",
   "id": "88138b75",
   "metadata": {},
   "source": [
    "## Testing capture"
   ]
  },
  {
   "cell_type": "code",
   "execution_count": 26,
   "id": "cdf4dd66",
   "metadata": {},
   "outputs": [],
   "source": [
    "FRAME = None\n",
    "COUNT = 0\n",
    "\n",
    "def callback(frame):\n",
    "    global FRAME, COUNT\n",
    "    print(f\"received a frame: shape={np.shape(frame)}\", flush=True)\n",
    "    if frame is not None:\n",
    "        FRAME = frame.copy()\n",
    "        COUNT += 1"
   ]
  },
  {
   "cell_type": "code",
   "execution_count": 27,
   "id": "c8cb002b",
   "metadata": {},
   "outputs": [],
   "source": [
    "dev.callbacks.clear()"
   ]
  },
  {
   "cell_type": "code",
   "execution_count": 28,
   "id": "bce37c76",
   "metadata": {
    "scrolled": true
   },
   "outputs": [
    {
     "name": "stdout",
     "output_type": "stream",
     "text": [
      "received a frame: shape=(240, 320, 3)\n",
      "received a frame: shape=(240, 320, 3)\n",
      "received a frame: shape=(240, 320, 3)\n",
      "received a frame: shape=(240, 320, 3)\n",
      "received a frame: shape=(240, 320, 3)\n",
      "received a frame: shape=(240, 320, 3)\n",
      "received a frame: shape=(240, 320, 3)\n",
      "received a frame: shape=(240, 320, 3)\n",
      "received a frame: shape=(240, 320, 3)\n",
      "received a frame: shape=(240, 320, 3)\n",
      "received a frame: shape=(240, 320, 3)\n",
      "received a frame: shape=(240, 320, 3)\n",
      "received a frame: shape=(240, 320, 3)\n",
      "received a frame: shape=(240, 320, 3)\n",
      "received a frame: shape=(240, 320, 3)\n",
      "received a frame: shape=(240, 320, 3)\n",
      "received a frame: shape=(240, 320, 3)\n",
      "received a frame: shape=(240, 320, 3)\n",
      "received a frame: shape=(240, 320, 3)\n",
      "received a frame: shape=(240, 320, 3)\n",
      "received a frame: shape=(240, 320, 3)\n",
      "received a frame: shape=(240, 320, 3)\n",
      "received a frame: shape=(240, 320, 3)\n",
      "received a frame: shape=()\n",
      "done: received 23 callbacks\n"
     ]
    }
   ],
   "source": [
    "COUNT = 0\n",
    "\n",
    "dev.triggered = True\n",
    "dev.callbacks.append(callback)\n",
    "dev.prepare(buffer_size=10)\n",
    "\n",
    "dev.start(strobe=True)\n",
    "try:\n",
    "    sleep(10)\n",
    "finally:\n",
    "    dev.stop(strobe=False)\n",
    "dev.callbacks.clear()\n",
    "dev.triggered = False\n",
    "\n",
    "print(f\"done: received {COUNT} callbacks\", flush=True)"
   ]
  },
  {
   "cell_type": "code",
   "execution_count": 30,
   "id": "a7a9aa32",
   "metadata": {},
   "outputs": [
    {
     "data": {
      "image/png": "[encoded data removed]",
      "text/plain": [
       "<Figure size 640x480 with 1 Axes>"
      ]
     },
     "metadata": {},
     "output_type": "display_data"
    }
   ],
   "source": [
    "if FRAME is None:\n",
    "    import sys\n",
    "    print(\"***failed to capture frames\", file=sys.stderr, flush=True)\n",
    "else:\n",
    "    plt.imshow(FRAME)\n",
    "    plt.gca().set_axis_off()\n",
    "    plt.show()"
   ]
  },
  {
   "cell_type": "code",
   "execution_count": 31,
   "id": "a5a7325c",
   "metadata": {},
   "outputs": [],
   "source": [
    "dev.close()"
   ]
  },
  {
   "cell_type": "code",
   "execution_count": 28,
   "id": "c2807095",
   "metadata": {},
   "outputs": [
    {
     "data": {
      "text/plain": [
       "False"
      ]
     },
     "execution_count": 28,
     "metadata": {},
     "output_type": "execute_result"
    }
   ],
   "source": [
    "dev.is_valid()"
   ]
  },
  {
   "cell_type": "code",
   "execution_count": 29,
   "id": "7f944a99",
   "metadata": {},
   "outputs": [],
   "source": [
    "del dev"
   ]
  },
  {
   "cell_type": "code",
   "execution_count": 30,
   "id": "6dc149dc",
   "metadata": {},
   "outputs": [],
   "source": [
    "del Device\n",
    "del labcamera_tis"
   ]
  },
  {
   "cell_type": "code",
   "execution_count": null,
   "id": "219c3cdc",
   "metadata": {},
   "outputs": [],
   "source": []
  }
 ],
 "metadata": {
  "kernelspec": {
   "display_name": "Python 3",
   "language": "python",
   "name": "python3"
  },
  "language_info": {
   "codemirror_mode": {
    "name": "ipython",
    "version": 3
   },
   "file_extension": ".py",
   "mimetype": "text/x-python",
   "name": "python",
   "nbconvert_exporter": "python",
   "pygments_lexer": "ipython3",
   "version": "3.8.10"
  }
 },
 "nbformat": 4,
 "nbformat_minor": 5
}
